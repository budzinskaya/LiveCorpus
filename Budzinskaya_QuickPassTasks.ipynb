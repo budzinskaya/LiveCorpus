{
  "nbformat": 4,
  "nbformat_minor": 0,
  "metadata": {
    "colab": {
      "provenance": [],
      "include_colab_link": true
    },
    "kernelspec": {
      "name": "python3",
      "display_name": "Python 3"
    },
    "language_info": {
      "name": "python"
    }
  },
  "cells": [
    {
      "cell_type": "markdown",
      "metadata": {
        "id": "view-in-github",
        "colab_type": "text"
      },
      "source": [
        "<a href=\"https://colab.research.google.com/github/budzinskaya/LiveCorpus/blob/master/Budzinskaya_QuickPassTasks.ipynb\" target=\"_parent\"><img src=\"https://colab.research.google.com/assets/colab-badge.svg\" alt=\"Open In Colab\"/></a>"
      ]
    },
    {
      "cell_type": "markdown",
      "source": [
        "#### Задача 1. \n",
        "\n",
        "Напишите программу, которая будет считывать пары чисел в цикле, затем для каждой пары посчитает деление ее первого члена на второй и выведет результат в форматированном виде таким образом, чтобы исходные числа занимали такое пространство, какова максимальная длина самого большого числа + 1, а результат был выравнен по правому краю и округлен до двух знаков после запятой. \n",
        "\n",
        "Пример ввода-вывода:\n",
        "\n",
        "    3 2\n",
        "    5 3\n",
        "    18 2\n",
        "\n",
        "    3   / 2  = 1.50\n",
        "    5   / 3  = 1.67\n",
        "    18  / 2  = 9.00\n",
        "\n",
        "(размер первого окошка - 3, между цифрами идет ' / ', размер второго окошка - 2, потом ' = ', потом округленные числа ответов. "
      ],
      "metadata": {
        "id": "gQJ_IE75GhYZ"
      }
    },
    {
      "cell_type": "code",
      "execution_count": null,
      "metadata": {
        "id": "WWpBxBUkGd1G"
      },
      "outputs": [],
      "source": [
        "num = input().split()\n",
        "dup = []\n",
        "\n",
        "while num:\n",
        "  dup.append(num)\n",
        "  num = input().split()\n",
        "l = max([len(i[0]) for i in dup]), max([len(i[1]) for i in dup])\n",
        "\n",
        "for pair in dup:\n",
        "    if float(pair[1]) == 0:\n",
        "      print(\"Тут происходит деление на ноль и ломает всю красоту\")\n",
        "      continue\n",
        "    else:\n",
        "      print(pair[0].ljust(l[0]+1) + ' / ' + pair[1].ljust(l[1]+1) + ' = ' + str(round((float(pair[0]) / float(pair[1])), 2)))"
      ]
    },
    {
      "cell_type": "markdown",
      "source": [
        "#### Задача 2. \n",
        "\n",
        "Пользователь вводит с клавиатуры какие-то числа (необходимо считывать их в цикле), пока не введет ноль. Нужно посчитать стандартное отклонение по формуле из википедии (можно выбрать любую из двух формул там). Списками пользоваться нельзя."
      ],
      "metadata": {
        "id": "jBnAiuR-IPYQ"
      }
    },
    {
      "cell_type": "code",
      "source": [
        "# чтобы решить задачу не списком (и не массивом, что идейно похоже на список), пришлось преобразовать формулу для стандартного отклонения (которая n-1)\n",
        "from math import sqrt\n",
        "\n",
        "x = 1\n",
        "n = -1 \n",
        "sum = 0 \n",
        "sqrsum = 0 \n",
        "while x != 0:\n",
        "    x = int(input())\n",
        "    sum += x\n",
        "    n += 1\n",
        "    sqrsum += x**2\n",
        "sr = sum/n\n",
        "print(sqrt((sqrsum+n*sr**2-2*sum*sr)/(n-1)))"
      ],
      "metadata": {
        "id": "wWZYCxOdIbmx"
      },
      "execution_count": null,
      "outputs": []
    },
    {
      "cell_type": "markdown",
      "source": [
        "#### Задача 3. \n",
        "\n",
        "Пользователь вводит какие-то целые числа в бесконечном цикле, пока не введет ноль; программа должна выводить введенное число и согласовать с ним слово \"кролик\", например,\n",
        "\n",
        "    1 кролик\n",
        "    2 кролика\n",
        "    11 кроликов\n",
        "    123 кролика\n",
        "    ..."
      ],
      "metadata": {
        "id": "c9iY1LIHIczA"
      }
    },
    {
      "cell_type": "code",
      "source": [
        "# вот вариант если на нуле нужно просто прекратить программу\n",
        "n = 1 \n",
        "while n != 0 :\n",
        "  n = int(input())\n",
        "  if n == 0 :\n",
        "    break\n",
        "  if n%10 == 1 and n%100!=11 :\n",
        "    print(n, 'кролик')\n",
        "  elif n%10 == 2 and n%100 != 12 or n%10 == 3 and n%100 != 13 or n%10 == 4 and n%100 != 14 :\n",
        "    print(n, 'кролика')\n",
        "  else: \n",
        "    print(n, 'кроликов')"
      ],
      "metadata": {
        "id": "BrZznIF8JO8o"
      },
      "execution_count": null,
      "outputs": []
    },
    {
      "cell_type": "code",
      "source": [
        "# вот вариант если нулём нужно закончить и напечатать в конце \"ноль кроликов\"\n",
        "n = 1 \n",
        "while n != 0 :\n",
        "  n = int(input())\n",
        "  if n%10 == 1 and n%100!=11 :\n",
        "    print(n, 'кролик')\n",
        "  elif n%10 == 2 and n%100 != 12 or n%10 == 3 and n%100 != 13 or n%10 == 4 and n%100 != 14 :\n",
        "    print(n, 'кролика')\n",
        "  else: \n",
        "    print(n, 'кроликов')"
      ],
      "metadata": {
        "id": "mAyZRF4olVLy"
      },
      "execution_count": null,
      "outputs": []
    },
    {
      "cell_type": "markdown",
      "source": [
        "#### Задача 4. \n",
        "\n",
        "Программа загадывает число от 1 до 1023. Игрок пытается угадать это число, и у него есть 10 попыток. Если игрок вводит загаданное число, программа поздравляет его и заканчивает работу. Иначе программа должна напечатать, введённое число больше или меньше загаданного. Если все 10 попыток неудачны - программа должна написать, что попытки кончились, вывести загаданное число, и предложить сыграть в игру заново (при этом число должно быть загадано другое). Если пользователь вводит число меньше, чем 1, или больше, чем 1023, программа должна об этом сообщить - но не засчитывать попытку (т.е., это не считается неудачной попыткой).\n",
        "\n",
        "Ответьте на вопрос: готовы ли вы ручаться, что угадаете загаданное число за эти 10 попыток?\n",
        "\n",
        "Чтобы загадать рандомное число, нужно использовать функцию randint() из внешнего модуля random."
      ],
      "metadata": {
        "id": "TxNLhtHLJP3g"
      }
    },
    {
      "cell_type": "code",
      "source": [
        "# я готова ручаться, т.к. верю в силу бинарного поиска \n",
        "# если пользователь в игре на угадывание чисел вводит не числа и у него вылетает программа, то это его проблема\n",
        "from random import randint\n",
        "\n",
        "def game(random):\n",
        "    attempts = 10\n",
        "    while attempts:\n",
        "      num = int(input('Введите число: '))\n",
        "      if 1 <= num <= 1023:\n",
        "        if num == random:\n",
        "          print('Поздравляем, вы угадали.')\n",
        "          return False\n",
        "        if num > random:\n",
        "          print('Не угадали, загаданное число меньше.')\n",
        "        else:\n",
        "          print('Не угадали, загаданное число больше.')\n",
        "        attempts -= 1\n",
        "      elif num < 1:\n",
        "        print('Вы ввели число меньше 1. Загадано число от 1 до 1023. Попробуйте ещё раз.')\n",
        "      else:\n",
        "        print('Вы ввели число больше 1023. Загадано число от 1 до 1023. Попробуйте ещё раз.')\n",
        "    print('У Вас закончились попытки. Загаданное число:', random, '\\nСыграем ещё раз?')\n",
        "    return True\n",
        "\n",
        "looser = True\n",
        "while looser:\n",
        "    looser = game(randint(1, 1023))"
      ],
      "metadata": {
        "id": "RF9aGFNCgD4H"
      },
      "execution_count": null,
      "outputs": []
    },
    {
      "cell_type": "markdown",
      "source": [
        "#### Задача 5. \n",
        "\n",
        "Сортировка с \"ё\": напишите программу, которая будет сортировать слова в списке таким образом, чтобы \"ёлка\" вставала на свое место, и \"ядрёный\" тоже. "
      ],
      "metadata": {
        "id": "xpCE6Jz9JWrx"
      }
    },
    {
      "cell_type": "code",
      "source": [
        "a = input().split()\n",
        "alf = \"абвгдеёжзийклмнопрстуфхцчшщъыьэюя\"\n",
        "print(sorted(a, key = lambda word: tuple(alf.index(i) for i in word)))"
      ],
      "metadata": {
        "id": "SLKCdgrAJihx"
      },
      "execution_count": null,
      "outputs": []
    },
    {
      "cell_type": "markdown",
      "source": [
        "#### Задача 6. \n",
        "\n",
        "Напишите функцию, которая принимает неограниченное количество параметров - целых чисел и верните все эти числа, возведенные в квадрат, в списке."
      ],
      "metadata": {
        "id": "SIvEya_yJjlR"
      }
    },
    {
      "cell_type": "code",
      "source": [
        "# если вводится что-то иное, нежели целые числа, то это проблемы вводящего\n",
        "\n",
        "def func(*num):\n",
        "  res = []\n",
        "  for n in num:\n",
        "    if type(n) == int:\n",
        "      res.append(n*n)\n",
        "  return res"
      ],
      "metadata": {
        "id": "SAH0QLSZJwtx"
      },
      "execution_count": null,
      "outputs": []
    },
    {
      "cell_type": "markdown",
      "source": [
        "#### Задача 7. \n",
        "\n",
        "Напишите функцию, которая принимает список строк и название метода строк и возвращает список из результатов применения этого метода к строкам. Например:\n",
        "\n",
        "\n",
        "    applier(input().split(), upper) \n",
        "\n",
        "должно вернуть список из тех же слов, только написанных заглавными буквами. "
      ],
      "metadata": {
        "id": "4CsFwmXlJx3x"
      }
    },
    {
      "cell_type": "code",
      "source": [
        "def applier(l, func_name):\n",
        "    result = []\n",
        "    for elem in l:\n",
        "        result.append(getattr(str, func_name)(elem))\n",
        "    return result\n",
        "\n",
        "# applier(['aaa', 'bbb'], 'upper')"
      ],
      "metadata": {
        "id": "T6HQ6vF0-v1d"
      },
      "execution_count": null,
      "outputs": []
    },
    {
      "cell_type": "markdown",
      "source": [
        "#### Задача 8. \n",
        "\n",
        "Напишите функцию, которая будет рекурсивно вычислять число Фибоначчи с номером n по его номеру, но при этом работать она должна за линейное время (то есть, если вы передаете номер 30, ваша программа не должна умереть: рекурсивный вызов внутри функции должен быть только один). \n",
        "\n",
        "Про числа Фибоначчи можно почитать в Википедии. "
      ],
      "metadata": {
        "id": "SR-MmrLqKMah"
      }
    },
    {
      "cell_type": "code",
      "source": [
        "def fibonacci(n):\n",
        "    a = 0\n",
        "    b = 1\n",
        "    c = 0\n",
        "    for i in range(n):\n",
        "        c = a\n",
        "        a = b\n",
        "        b = c + b\n",
        "    return a "
      ],
      "metadata": {
        "id": "I_7OCW4V0Ema"
      },
      "execution_count": null,
      "outputs": []
    },
    {
      "cell_type": "markdown",
      "source": [
        "#### Задача 9. \n",
        "\n",
        "Зализняк. Дан текст (на английском языке), состоящий из нескольких предложений. Составьте список всех встретившихся в тексте словоформ, отсортированный в обратном лексикографическом порядке (как в обратном словаре А.А.Зализняка, только вам не надо решать задачу лемматизации). Вам нужно разбить строку на токены, убрать оттуда всё лишнее (т.е. всё, что не является словом, в том числе - числа, любые аббревиатуры с цифрами и вообще всё, в чём есть цифры), отсортировать соответствующим образом, убрать повторы, и напечатать получившийся список. Нельзя заводить вспомогательные списки, запрещается менять туда-сюда порядок букв слов в основном списке. Для токенизации достаточно использовать стандартные методы строк и punctuation из библиотеки string. "
      ],
      "metadata": {
        "id": "bKrber3cKleR"
      }
    },
    {
      "cell_type": "code",
      "source": [
        "import string\n",
        "\n",
        "punct = list(string.punctuation)\n",
        "punct.remove('-')\n",
        "text = ''.join(x for x in input() if x not in punct and not x.isdigit()).lower()\n",
        "words = [word.strip('-') for word in text.split() if not word in ('-')]\n",
        "print(sorted(words, key = lambda x: x[::-1]))"
      ],
      "metadata": {
        "id": "WxEzqdufxBR9"
      },
      "execution_count": null,
      "outputs": []
    },
    {
      "cell_type": "markdown",
      "source": [
        "#### Задача 10. \n",
        "\n",
        "Напишите функцию, которая читает текст из файла в одной кодировке и перезаписывает его в другой файл в другой кодировке. Функция принимает в качестве аргументов два пути к файлам и две имени кодировки."
      ],
      "metadata": {
        "id": "keiM4OOiLU9y"
      }
    },
    {
      "cell_type": "code",
      "source": [
        "def cod(file1, file2, cod1, cod2):\n",
        "    with open(file1, 'r', encoding=cod1) as file:\n",
        "        text = file.read()\n",
        "    with open(file2, 'w', encoding=cod2, errors='replace') as file:\n",
        "        file.write(text)"
      ],
      "metadata": {
        "id": "r3bBVsk85k6J"
      },
      "execution_count": null,
      "outputs": []
    },
    {
      "cell_type": "markdown",
      "source": [
        "#### Задача 11. \n",
        "\n",
        "В папке data содержатся файлы с англоязычными текстами. Программе передается только путь к этой папке, но не названия файлов (файлы в теории могут добавляться, мы заранее не знаем ни их названий, ни их числа). Во всех файлах есть только стандартные символы пунктуации, цифры и латинские буквы (диакритик нет). Подсчитайте статистику по каждому файлу: у вас должна быть функция, которая считает количество символов в файле, количество слов (достаточно использовать split() и strip()) и количество строк. Статистику запишите в отдельный файл."
      ],
      "metadata": {
        "id": "SZQa8EieLex6"
      }
    },
    {
      "cell_type": "code",
      "source": [
        "import string\n",
        "import os\n",
        "\n",
        "def stat(path, file):\n",
        "  with open(os.path.join(path, file), 'r', encoding='utf-8') as f:\n",
        "        text = f.read()\n",
        "  punct = list(string.punctuation)\n",
        "  punct.remove('-')\n",
        "  text = ''.join(x for x in input() if x not in punct and not x.isdigit()).lower()\n",
        "  symb = len(text)\n",
        "  words = [word.strip('-') for word in text.split() if not word in ('-')]\n",
        "  lines = lines = text.count('\\n') + 1\n",
        "  return f\"{file} \\n Символы: {symb} \\n Слова: {words} \\n Строки: {lines} \\n \"\n",
        "\n",
        "path = \"data\"\n",
        "output = \"file_statistics.txt\"\n",
        "for file in os.listdir(path):\n",
        "    with open(os.path.join(path, output), 'a', encoding='utf-8') as f:\n",
        "        f.write(stat(path, file))"
      ],
      "metadata": {
        "id": "og9e3pIoLnjq"
      },
      "execution_count": null,
      "outputs": []
    },
    {
      "cell_type": "markdown",
      "source": [
        "#### Задача 12. \n",
        "Напишите функцию для сложения матриц, используя стандартные списки питона. "
      ],
      "metadata": {
        "id": "wtlOzKLaLmWq"
      }
    },
    {
      "cell_type": "code",
      "source": [
        "def sum(matrix1, matrix2):\n",
        "  summat = [[matrix1[i][j] + matrix2[i][j] for j in range(len(matrix1))] for i in range(len(matrix2))]\n",
        "  return summat"
      ],
      "metadata": {
        "id": "7VxyY97k7Dxz"
      },
      "execution_count": null,
      "outputs": []
    },
    {
      "cell_type": "markdown",
      "source": [
        "#### Задача 13. \n",
        "\n",
        "Некоторый банк хочет внедрить систему управления счетами клиентов, поддерживающую следующие операции:\n",
        "\n",
        "Пополнение счета клиента.\n",
        "Снятие денег со счета.\n",
        "Запрос остатка средств на счете.\n",
        "Перевод денег между счетами клиентов.\n",
        "Начисление процентов всем клиентам.\n",
        "Вам необходимо реализовать такую систему. Клиенты банка идентифицируются именами (уникальная строка, не содержащая пробелов). Первоначально у банка нет ни одного клиента. Как только для клиента проводится операция пололнения, снятия или перевода денег, ему заводится счет с нулевым балансом. Все дальнейшие операции проводятся только с этим счетом. Сумма на счету может быть как положительной, так и отрицательной, при этом всегда является целым числом.\n",
        "\n",
        "Входной файл содержит последовательность операций. Возможны следующие операции:\n",
        "\n",
        "DEPOSIT name sum - зачислить сумму sum на счет клиента name. Если у клиента нет счета, то счет создается.\n",
        "\n",
        "WITHDRAW name sum - снять сумму sum со счета клиента name. Если у клиента нет счета, то счет создается.\n",
        "\n",
        "BALANCE name - узнать остаток средств на счету клиента name.\n",
        "\n",
        "TRANSFER name1 name2 sum - перевести сумму sum со счета клиента name1 на счет клиента name2. Если у какого-либо клиента нет счета, то ему создается счет.\n",
        "\n",
        "INCOME p - начислить всем клиентам, у которых открыты счета, p% от суммы счета. Проценты начисляются только клиентам с положительным остатком на счету, если у клиента остаток отрицательный, то его счет не меняется. После начисления процентов сумма на счету остается целой, то есть начисляется только целое число денежных единиц. Дробная часть начисленных процентов отбрасывается.\n",
        "\n",
        "Для каждого запроса BALANCE программа должна вывести остаток на счету данного клиента. Если же у клиента с запрашиваемым именем не открыт счет в банке, выведите ERROR."
      ],
      "metadata": {
        "id": "_lnlkrPZL42j"
      }
    },
    {
      "cell_type": "code",
      "source": [
        "class Client:  \n",
        "  def __init__(self, name, funds):\n",
        "    self.name = name\n",
        "    self.summ = funds\n",
        "\n",
        "  def deposit(self, summ):\n",
        "    self.summ += int(summ)\n",
        "\n",
        "  def withdraw(self, summ):\n",
        "    self.summ -= int(summ)\n",
        "\n",
        "  def balance(self):\n",
        "    print(self.summ)\n",
        "\n",
        "  def transfer(self, client2, summ):\n",
        "    self.withdraw(summ)\n",
        "    client2.deposit(summ)\n",
        "\n",
        "  def income(self, p):\n",
        "    if self.summ > 0:\n",
        "            self.summ += int(self.summ * int(p) / 100)\n",
        "DATA = {}\n",
        "\n",
        "def todo(line):\n",
        "    task = line.split()\n",
        "    if task[0] == 'DEPOSIT' or 'WITHDRAW':\n",
        "        if not task[1] in DATA.keys():\n",
        "          DATA[task[1]] = Client(task[1], 0)\n",
        "        if task[0] == 'DEPOSIT':\n",
        "          DATA[task[1]].deposit(task[2])\n",
        "        else:\n",
        "          DATA[task[1]].withdraw(task[2])\n",
        "          \n",
        "    elif task[0] == 'BALANCE':\n",
        "        if task[1] in DATA.keys():\n",
        "            DATA[task[1]].balance()\n",
        "        else:\n",
        "            print('ERROR')\n",
        "\n",
        "    elif task[0] == 'TRANSFER':\n",
        "      if not task[1] in DATA.keys():\n",
        "          DATA[task[1]] = Client(task[1], 0)\n",
        "      if not task[2] in DATA.keys():\n",
        "          DATA[task[2]] = Client(task[2], 0)\n",
        "      DATA[task[1]].transfer(DATA[task[2]], task[3])\n",
        "  \n",
        "    elif task[0] == 'INCOME':\n",
        "        for client in DATA:\n",
        "            DATA[client].income(task[1])\n",
        "\n",
        "\n",
        "with open(input('Путь к файлу: '), 'r', encoding='utf-8') as file:\n",
        "    info = file.readlines()\n",
        "for i in info:\n",
        "    todo(i)"
      ],
      "metadata": {
        "id": "K31cpfHZMB0d"
      },
      "execution_count": null,
      "outputs": []
    },
    {
      "cell_type": "markdown",
      "source": [
        "#### Задача 14. \n",
        "\n",
        "В некотором текстовом файле дан текст (достаточно длинный). Посчитайте лексическое разнообразие этого текста: то есть, количество уникальных слов в нем, поделенное на общее количество слов. \n",
        "\n"
      ],
      "metadata": {
        "id": "BzOj_R_-MFkE"
      }
    },
    {
      "cell_type": "code",
      "source": [
        "import re \n",
        "with open(input('Путь к файлу: '), 'r', encoding='utf-8') as file:\n",
        "    text = file.read() \n",
        "\n",
        "\n",
        "text = text.lower()\n",
        "text = re.sub(r'[^\\w\\s]+|[\\d]+', r'', text).strip()\n",
        "words = text.split()\n",
        "\n",
        "uniq = []\n",
        "for word in words:\n",
        "    if word not in uniq:\n",
        "        uniq.append(word)\n",
        "\n",
        "print(len(uniq)/len(words))"
      ],
      "metadata": {
        "id": "9S1cpLqFMPEi"
      },
      "execution_count": null,
      "outputs": []
    },
    {
      "cell_type": "markdown",
      "source": [
        "#### Задача 15. \n",
        "\n",
        "А теперь (можно для того же текста) составьте частотный словарик для текста. Выведите 10 самых частотных слов. "
      ],
      "metadata": {
        "id": "b5MFu6wSMQqa"
      }
    },
    {
      "cell_type": "code",
      "source": [
        "from collections import Counter\n",
        "import re \n",
        "\n",
        "with open(input('Путь к файлу: '), 'r', encoding='utf-8') as file:\n",
        "    text = file.read()\n",
        "text = text.lower()\n",
        "text = re.sub(r'[^\\w\\s]+|[\\d]+', r'', text).strip()\n",
        "words = text.split()\n",
        "\n",
        "fdic = {}\n",
        "for word in words:\n",
        "  if word not in fdic:\n",
        "    fdic[word] = 1\n",
        "  else:\n",
        "    fdic[word] += 1\n",
        "\n",
        "freq = Counter(fdic)\n",
        "for key, value in sorted(freq.items(), key=lambda x: (-x[1], x[0]))[:10]:\n",
        "  print(key)"
      ],
      "metadata": {
        "id": "FUQNBDIvtQzR"
      },
      "execution_count": null,
      "outputs": []
    }
  ]
}