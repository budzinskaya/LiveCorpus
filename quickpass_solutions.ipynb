{
  "cells": [
    {
      "cell_type": "markdown",
      "metadata": {
        "id": "view-in-github",
        "colab_type": "text"
      },
      "source": [
        "<a href=\"https://colab.research.google.com/github/budzinskaya/LiveCorpus/blob/master/quickpass_solutions.ipynb\" target=\"_parent\"><img src=\"https://colab.research.google.com/assets/colab-badge.svg\" alt=\"Open In Colab\"/></a>"
      ]
    },
    {
      "cell_type": "markdown",
      "id": "b4d7dc76-a323-457b-bb62-470fcf98bd97",
      "metadata": {
        "id": "b4d7dc76-a323-457b-bb62-470fcf98bd97"
      },
      "source": [
        "### Программистская часть"
      ]
    },
    {
      "cell_type": "markdown",
      "id": "12eec3be-bcd2-4818-9f45-fc288b263445",
      "metadata": {
        "id": "12eec3be-bcd2-4818-9f45-fc288b263445"
      },
      "source": [
        "#### Задача 1. \n",
        "\n",
        "Напишите черновик игры в жанре RPG. Идеологически: игрок выбирает, будет ли он играть за волшебника или за бойца, а потом выбранным героем сражается с монстрами, набирая очки опыта. Что должно быть технически:\n",
        "\n",
        "- классы волшебника и бойца (можно создать отдельный класс Player и наследоваться от него, но необязательно)\n",
        "- класс монстра (хотя бы один)\n",
        "- класс оружия (тут тоже фантазию не ограничиваю - можно создать абстрактный класс и наследоваться от него, можно сделать классы для меча и для посоха с варьирующими атрибутами)\n",
        "- класс Игра, в котором будут все необходимые методы\n",
        "- все это должно быть разложено по отдельным скриптам .py в папке, класс игры импортируется в файл main.py, и его методы вызываются там. "
      ]
    },
    {
      "cell_type": "code",
      "execution_count": null,
      "id": "727e26be-5a30-49f8-a0b7-198e8491acc7",
      "metadata": {
        "id": "727e26be-5a30-49f8-a0b7-198e8491acc7"
      },
      "outputs": [],
      "source": [
        "# your code here"
      ]
    },
    {
      "cell_type": "markdown",
      "id": "b89345f8-025c-4293-81dd-15b846ed92d0",
      "metadata": {
        "id": "b89345f8-025c-4293-81dd-15b846ed92d0"
      },
      "source": [
        "#### Задача 2. \n",
        "\n",
        "Дан текст, каждая строка которого является полным или относительным путём к некоторому файлу.\n",
        "Напишите регулярное выражение, которое захватывает:\n",
        "1. директорию, в которой лежит файл;\n",
        "2. только имя файла (без расширения);\n",
        "3. только расширение;\n",
        "При этом:\n",
        "- нужны только файлы, у которых расширение не .bat и не .txt.\n",
        "- пути могут быть как в Unix, так и в Windows формате (https://ru.wikipedia.org/wiki/Путь_к_файлу).\n",
        "- расширение, если оно есть, начинается с точки. Файлы могут быть без расширения вовсе (в этом случае на месте расширения должно стоять None или \"\")\n",
        "- скрытые файлы могут начинаться с точки (например, .bashrc - и это не расширение)\n",
        "- относительный путь может содержать только название файла, в этом случае вместо директории выведите None или \"\"\n",
        "- в остальных случаях директория должна заканчиаться на разделитель директорий. Наприемр, в Unix-системах - \"/\" - это путь к корневой директории.\n",
        "Требуется получить список из кортежей, каждый кортеж содержит извлечённые данные.\n",
        "Используйте флаг VERBOSE, чтобы не запутаться.\n",
        "(Расширение в целом может содержать всё, что угодно, но разделителей директорий не может быть в именах файлах и расширениях. https://en.wikipedia.org/wiki/List_of_filename_extensions )"
      ]
    },
    {
      "cell_type": "code",
      "execution_count": 9,
      "id": "48a7360d-fed8-446d-93df-c32445b1c346",
      "metadata": {
        "id": "48a7360d-fed8-446d-93df-c32445b1c346"
      },
      "outputs": [],
      "source": [
        "import re\n",
        "\n",
        "def process_paths(paths):\n",
        "    pattern = re.compile(r'(?m)' +\n",
        "                         r'^([\\\\/]?(?:[^\\\\/:*?\\\"<>|\\r\\n]+[\\\\/])*)' +\n",
        "                         r'(\\.?(?:[^\\\\/:*?\\\"<>|\\r\\n\\.]|\\.(?=.*\\.))+)' +\n",
        "                         r'(?!\\.bat(?:$|\\n))(?!\\.txt(?:$|\\n))' +\n",
        "                         r'(\\.[^\\\\/:*?\\\"<>|\\r\\n\\.]+)?$')\n",
        "    return re.findall(pattern, paths)\n",
        "\n",
        "paths = '''\n",
        "file.txt\n",
        "file.txts\n",
        "\\\\dir\\\\file.bat\n",
        "\\\\dir\\\\file.bats\n",
        "/dir/dir/file.py\n",
        "dir\\\\file.py\n",
        "dir\\\\file.before.py\n",
        ".file\n",
        "/dir/.file\n",
        "file.py\n",
        "/file.py\n",
        "/file.py/file.py\n",
        "dir1/file 1.7z\n",
        "'''\n",
        "\n",
        "expected_results = [\n",
        "    ('', 'file', '.txts'),\n",
        "    ('\\\\dir\\\\', 'file', '.bats'),\n",
        "    ('/dir/dir/', 'file', '.py'),\n",
        "    ('dir\\\\', 'file', '.py'),\n",
        "    ('dir\\\\', 'file.before', '.py'),\n",
        "    ('', '.file', ''),\n",
        "    ('/dir/', '.file', ''),\n",
        "    ('', 'file', '.py'),\n",
        "    ('/', 'file', '.py'),\n",
        "    ('/file.py/', 'file', '.py'),\n",
        "    ('dir1/', 'file 1', '.7z'),\n",
        "]\n",
        "\n",
        "actual_results = process_paths(paths)\n",
        "\n",
        "assert(actual_results == expected_results)"
      ]
    },
    {
      "cell_type": "markdown",
      "id": "ff71ac02-8b49-4b20-a5d7-176ae43b4613",
      "metadata": {
        "id": "ff71ac02-8b49-4b20-a5d7-176ae43b4613"
      },
      "source": [
        "#### Задача 3. \n",
        "\n",
        "Жизнь.\n",
        "Напишите игру \"Жизнь\".\n",
        "Что это такое - читайте в википедии и здесь: http://www.michurin.net/online-tools/life-game.html\n",
        "Вообще говоря, это не игра в привычном понимании этого слова, а процесс.\n",
        "В простейшем виде достаточно раз в 0.1 секунды выводить на экран обновлённое поле. Для рамочек можно использовать специальные символы для рисования рамочек (найдите в таблице unicode). Пробел - пустая клетка, живая клетка может быть обозначена, например, символом '+'. Начальное поле генерируется случайным образом, вероятность появления жизни в клетке при начальной генерации - должна быть настраиваемым параметром. Размеры поля вводит пользователь при запуске программы. Также должна быть возможность в качестве начальной популяции использовать R-pentomino (http://www.conwaylife.com/wiki/R-pentomino)"
      ]
    },
    {
      "cell_type": "code",
      "execution_count": 1,
      "id": "a1f38628-ec95-45f9-9e26-01f649f6c07b",
      "metadata": {
        "id": "a1f38628-ec95-45f9-9e26-01f649f6c07b"
      },
      "outputs": [],
      "source": [
        "import numpy as np\n",
        "import time\n",
        "\n",
        "from IPython.display import clear_output\n",
        "\n",
        "class Life:\n",
        "    def __init__(self, width=60, height=40, prob=0.3, time=0.1):\n",
        "        self._prob = prob\n",
        "        self._width = width\n",
        "        self._height = height\n",
        "        self._time = time\n",
        "\n",
        "    def _initialize_field(self, randomly=True):\n",
        "        if randomly:\n",
        "            self._field = np.random.random((self._height, self._width)) < self._prob\n",
        "        else:\n",
        "            self._field = np.full((self._height, self._width), False)\n",
        "            cx = self._width // 2\n",
        "            cy = self._height // 2\n",
        "            self._field[cy - 1, cx] = True\n",
        "            self._field[cy - 1, cx + 1] = True\n",
        "            self._field[cy, cx] = True\n",
        "            self._field[cy, cx - 1] = True\n",
        "            self._field[cy + 1, cx] = True\n",
        "        \n",
        "        # массив для подсчёта живых соседей с \"рамкой\"\n",
        "        self._scores = np.zeros((self._height + 2, self._width + 2))\n",
        "\n",
        "    def _one_step(self):\n",
        "        self._scores.fill(0)\n",
        "        # сместим field 8 раза в разных направлениях и прибавим к scores\n",
        "        for i in range(3):\n",
        "            for j in range(3):\n",
        "                if i == 1 and j == 1:\n",
        "                    continue\n",
        "\n",
        "                self._scores[i: i + self._height, j: j + self._width] += self._field\n",
        "\n",
        "        # мёртвые клетки с 3 живыми соседями\n",
        "        condition1 = (~self._field) & (self._scores[1: self._height + 1, 1: self._width + 1] == 3)\n",
        "        # живые клетки с 2 или 3 живими соседями\n",
        "        condition2 = self._field & ((self._scores[1: self._height + 1, 1: self._width + 1] == 2) | (self._scores[1: self._height + 1, 1: self._width + 1] == 3))\n",
        "\n",
        "        self._field = condition1 | condition2\n",
        "        \n",
        "\n",
        "    def _show_field(self):\n",
        "        horizontal_line = u'\\u2501'\n",
        "        vertical_line = u'\\u2503'\n",
        "        top_left_corner = u'\\u250F'\n",
        "        top_right_corner = u'\\u2513'\n",
        "        bottom_left_corner = u'\\u2517'\n",
        "        bottom_right_corner = u'\\u251B'\n",
        "\n",
        "        result = top_left_corner + horizontal_line * self._width + top_right_corner + '\\n'\n",
        "        for i in range(self._height):\n",
        "            result += vertical_line + ''.join('+' if x else ' ' for x in self._field[i]) + vertical_line + '\\n'\n",
        "        result += bottom_left_corner + horizontal_line * self._width + bottom_right_corner\n",
        "        clear_output(wait=True)\n",
        "        print(result)\n",
        "\n",
        "\n",
        "    def run(self, randomly=True):\n",
        "        self._initialize_field(randomly)\n",
        "        while True: \n",
        "            self._show_field()\n",
        "            time.sleep(self._time)\n",
        "            self._one_step()\n"
      ]
    },
    {
      "cell_type": "code",
      "source": [
        "print(\"Введите через пробел ширину и высоту поля\")\n",
        "size = input().split()\n",
        "width, height = int(size[0]), int(size[1])\n",
        "print(\"Введите R, если хотите использовать в качестве начальной популяции R-pentomino (иначе любое другое значение)\")\n",
        "randomly = input() != \"R\"\n",
        "if randomly:\n",
        "    print(\"Введите вероятность появления жизни\")\n",
        "    prob = float(input())\n",
        "    life = Life(width, height, prob)\n",
        "else:\n",
        "    life = Life(width, height)\n",
        "life.run(randomly)\n"
      ],
      "metadata": {
        "colab": {
          "base_uri": "https://localhost:8080/",
          "height": 513
        },
        "id": "FTYNM9gbWHwx",
        "outputId": "8af766ff-985c-4a5f-af58-2f1a72e343c5"
      },
      "id": "FTYNM9gbWHwx",
      "execution_count": 4,
      "outputs": [
        {
          "output_type": "stream",
          "name": "stdout",
          "text": [
            "┏━━━━━━━━━━┓\n",
            "┃          ┃\n",
            "┃          ┃\n",
            "┃          ┃\n",
            "┃          ┃\n",
            "┃          ┃\n",
            "┃          ┃\n",
            "┃    +     ┃\n",
            "┃   + +    ┃\n",
            "┃    +     ┃\n",
            "┃          ┃\n",
            "┗━━━━━━━━━━┛\n"
          ]
        },
        {
          "output_type": "error",
          "ename": "KeyboardInterrupt",
          "evalue": "ignored",
          "traceback": [
            "\u001b[0;31m---------------------------------------------------------------------------\u001b[0m",
            "\u001b[0;31mKeyboardInterrupt\u001b[0m                         Traceback (most recent call last)",
            "\u001b[0;32m<ipython-input-4-400dc146071d>\u001b[0m in \u001b[0;36m<cell line: 12>\u001b[0;34m()\u001b[0m\n\u001b[1;32m     10\u001b[0m \u001b[0;32melse\u001b[0m\u001b[0;34m:\u001b[0m\u001b[0;34m\u001b[0m\u001b[0;34m\u001b[0m\u001b[0m\n\u001b[1;32m     11\u001b[0m     \u001b[0mlife\u001b[0m \u001b[0;34m=\u001b[0m \u001b[0mLife\u001b[0m\u001b[0;34m(\u001b[0m\u001b[0mwidth\u001b[0m\u001b[0;34m,\u001b[0m \u001b[0mheight\u001b[0m\u001b[0;34m)\u001b[0m\u001b[0;34m\u001b[0m\u001b[0;34m\u001b[0m\u001b[0m\n\u001b[0;32m---> 12\u001b[0;31m \u001b[0mlife\u001b[0m\u001b[0;34m.\u001b[0m\u001b[0mrun\u001b[0m\u001b[0;34m(\u001b[0m\u001b[0mrandomly\u001b[0m\u001b[0;34m)\u001b[0m\u001b[0;34m\u001b[0m\u001b[0;34m\u001b[0m\u001b[0m\n\u001b[0m",
            "\u001b[0;32m<ipython-input-1-956de220d157>\u001b[0m in \u001b[0;36mrun\u001b[0;34m(self, randomly)\u001b[0m\n\u001b[1;32m     65\u001b[0m         \u001b[0;32mwhile\u001b[0m \u001b[0;32mTrue\u001b[0m\u001b[0;34m:\u001b[0m\u001b[0;34m\u001b[0m\u001b[0;34m\u001b[0m\u001b[0m\n\u001b[1;32m     66\u001b[0m             \u001b[0mself\u001b[0m\u001b[0;34m.\u001b[0m\u001b[0m_show_field\u001b[0m\u001b[0;34m(\u001b[0m\u001b[0;34m)\u001b[0m\u001b[0;34m\u001b[0m\u001b[0;34m\u001b[0m\u001b[0m\n\u001b[0;32m---> 67\u001b[0;31m             \u001b[0mtime\u001b[0m\u001b[0;34m.\u001b[0m\u001b[0msleep\u001b[0m\u001b[0;34m(\u001b[0m\u001b[0mself\u001b[0m\u001b[0;34m.\u001b[0m\u001b[0m_time\u001b[0m\u001b[0;34m)\u001b[0m\u001b[0;34m\u001b[0m\u001b[0;34m\u001b[0m\u001b[0m\n\u001b[0m\u001b[1;32m     68\u001b[0m             \u001b[0mself\u001b[0m\u001b[0;34m.\u001b[0m\u001b[0m_one_step\u001b[0m\u001b[0;34m(\u001b[0m\u001b[0;34m)\u001b[0m\u001b[0;34m\u001b[0m\u001b[0;34m\u001b[0m\u001b[0m\n",
            "\u001b[0;31mKeyboardInterrupt\u001b[0m: "
          ]
        }
      ]
    },
    {
      "cell_type": "markdown",
      "id": "81ee93a1-8801-48e5-a4ec-4c4ac8c34fea",
      "metadata": {
        "tags": [],
        "id": "81ee93a1-8801-48e5-a4ec-4c4ac8c34fea"
      },
      "source": [
        "### Лингвистическая часть\n",
        "\n",
        "Для выполнения этих заданий выберите два любых достаточно длинных текста (.txt) на русском и на любом другом (для которого есть парсеры) языке; если возьмете текст и его перевод, будет отлично."
      ]
    },
    {
      "cell_type": "markdown",
      "id": "4c5051a4-23d6-4e51-9fa1-044f183ae04f",
      "metadata": {
        "id": "4c5051a4-23d6-4e51-9fa1-044f183ae04f"
      },
      "source": [
        "#### Задача 4. \n",
        "\n",
        "Просмотрите оба выбранных текста. Удостоверьтесь, что тексты чистые, если же в них есть какой-то мусор: хештеги, затесавшиеся при OCR символы и подобное, почистите с помощью регулярных выражений. \n",
        "\n",
        "Проведите первичный статистический анализ: разбейте тексты на предложения и на токены, посчитайте относительное количество того и другого, сопоставьте. Если ваши тексты параллельные, какой длиннее? В каком тексте средняя длина предложения больше? Почему? В каком тексте выше лексическое разнообразие? \n",
        "\n",
        "Таким образом, вам необходимо узнать следующие вещи:\n",
        "\n",
        "- количество предложений (относительное и абсолютное)\n",
        "- количество токенов (относительное и абсолютное)\n",
        "- средняя длина предложения (среднее количество слов в предложении)\n",
        "- соотношение \"уникальные токены / все токены\"\n",
        "- (опционально) соотношение знаков пунктуации и слов"
      ]
    },
    {
      "cell_type": "code",
      "source": [
        "!pip install nltk\n",
        "import nltk\n",
        "nltk.download('punkt')"
      ],
      "metadata": {
        "colab": {
          "base_uri": "https://localhost:8080/"
        },
        "id": "EShguMrdrZYX",
        "outputId": "43fd9a84-ab00-4476-8ac5-fb866f24dede"
      },
      "id": "EShguMrdrZYX",
      "execution_count": 5,
      "outputs": [
        {
          "output_type": "stream",
          "name": "stdout",
          "text": [
            "Looking in indexes: https://pypi.org/simple, https://us-python.pkg.dev/colab-wheels/public/simple/\n",
            "Requirement already satisfied: nltk in /usr/local/lib/python3.10/dist-packages (3.8.1)\n",
            "Requirement already satisfied: click in /usr/local/lib/python3.10/dist-packages (from nltk) (8.1.3)\n",
            "Requirement already satisfied: joblib in /usr/local/lib/python3.10/dist-packages (from nltk) (1.2.0)\n",
            "Requirement already satisfied: regex>=2021.8.3 in /usr/local/lib/python3.10/dist-packages (from nltk) (2022.10.31)\n",
            "Requirement already satisfied: tqdm in /usr/local/lib/python3.10/dist-packages (from nltk) (4.65.0)\n"
          ]
        },
        {
          "output_type": "stream",
          "name": "stderr",
          "text": [
            "[nltk_data] Downloading package punkt to /root/nltk_data...\n",
            "[nltk_data]   Unzipping tokenizers/punkt.zip.\n"
          ]
        },
        {
          "output_type": "execute_result",
          "data": {
            "text/plain": [
              "True"
            ]
          },
          "metadata": {},
          "execution_count": 5
        }
      ]
    },
    {
      "cell_type": "code",
      "source": [
        "def preprocess_text(filepath, regex):\n",
        "    with open(filepath, 'r') as file:\n",
        "        text = file.read()\n",
        "        text = re.sub(regex, '', text)\n",
        "        text = re.sub(r'\\s+', ' ', text)\n",
        "        \n",
        "        return text\n"
      ],
      "metadata": {
        "id": "CgIVUzXRl8zv"
      },
      "id": "CgIVUzXRl8zv",
      "execution_count": 10,
      "outputs": []
    },
    {
      "cell_type": "code",
      "source": [
        "from tabulate import tabulate\n",
        "from nltk.tokenize import sent_tokenize, word_tokenize\n",
        "\n",
        "def analyze_text(text, word_regex):\n",
        "    sents = sent_tokenize(text)\n",
        "    tokens = word_tokenize(text)\n",
        "\n",
        "    reg = re.compile(word_regex)\n",
        "    words = [token for token in tokens if re.fullmatch(reg, token)]\n",
        "\n",
        "    sent_lengths = [len(word_tokenize(sent)) for sent in sents]\n",
        "    mean_length = sum(sent_lengths) / len(sent_lengths)\n",
        "\n",
        "    results = {\n",
        "        'кол-во предложений': len(sents),\n",
        "        'кол-во токенов': len(tokens),\n",
        "        'средняя длина предложения': mean_length,\n",
        "        'уникальные токены/все токены': len(set(tokens)) / len(tokens),\n",
        "        'знаки пунктуации/слова': (len(tokens) - len(words)) / len(words)\n",
        "    }\n",
        "\n",
        "    return results\n",
        "\n",
        "\n",
        "text_ru = preprocess_text('prestuplenie-i-nakazanie.txt', r'[^А-Яа-яЁё.,:;!?–—\\-()\"\\s]+')\n",
        "text_de = preprocess_text('verbrechen_und_strafe.txt', r'[^A-Za-zÄäÖöÜüß.,:;!?–—\\-()\"\\s]+')\n",
        "\n",
        "analysis_ru = analyze_text(text_ru, r'[А-Яа-яЁё\\-]+')\n",
        "analysis_de = analyze_text(text_de, r'[A-Za-zÄäÖöÜüß]+')\n",
        "\n",
        "table_data = [\n",
        "    ['', 'ru', 'de', 'ru/de'],\n",
        "]\n",
        "\n",
        "for key in analysis_ru.keys():\n",
        "    table_data.append([key, analysis_ru[key], analysis_de[key], analysis_ru[key] / analysis_de[key]])\n",
        "\n",
        "print(tabulate(table_data, headers=\"firstrow\", tablefmt=\"grid\"))"
      ],
      "metadata": {
        "colab": {
          "base_uri": "https://localhost:8080/"
        },
        "id": "WQSGBlE5mCHD",
        "outputId": "a568b53d-e104-407c-b2e2-733a29143704"
      },
      "id": "WQSGBlE5mCHD",
      "execution_count": 47,
      "outputs": [
        {
          "output_type": "stream",
          "name": "stdout",
          "text": [
            "+------------------------------+---------------+----------------+----------+\n",
            "|                              |            ru |             de |    ru/de |\n",
            "+==============================+===============+================+==========+\n",
            "| кол-во предложений           |  13692        |  14307         | 0.957014 |\n",
            "+------------------------------+---------------+----------------+----------+\n",
            "| кол-во токенов               | 218899        | 246203         | 0.8891   |\n",
            "+------------------------------+---------------+----------------+----------+\n",
            "| средняя длина предложения    |     15.9888   |     17.2086    | 0.929116 |\n",
            "+------------------------------+---------------+----------------+----------+\n",
            "| уникальные токены/все токены |      0.12662  |      0.0682079 | 1.85638  |\n",
            "+------------------------------+---------------+----------------+----------+\n",
            "| знаки пунктуации/слова       |      0.284717 |      0.193405  | 1.47213  |\n",
            "+------------------------------+---------------+----------------+----------+\n"
          ]
        }
      ]
    },
    {
      "cell_type": "markdown",
      "id": "28d22ca8-4de5-4dac-a9c0-f78bf4b6cf39",
      "metadata": {
        "id": "28d22ca8-4de5-4dac-a9c0-f78bf4b6cf39"
      },
      "source": [
        "#### Задача 5. \n",
        "\n",
        "Сделайте морфосинтаксические разборы ваших текстов в формате UD, запишите .conllu-файлы. "
      ]
    },
    {
      "cell_type": "code",
      "execution_count": 17,
      "id": "ef443021-3c8f-45ad-a102-b9740a0daa85",
      "metadata": {
        "id": "ef443021-3c8f-45ad-a102-b9740a0daa85",
        "colab": {
          "base_uri": "https://localhost:8080/"
        },
        "outputId": "94c16519-afc0-48bb-afb8-3f6042627255"
      },
      "outputs": [
        {
          "output_type": "stream",
          "name": "stdout",
          "text": [
            "Looking in indexes: https://pypi.org/simple, https://us-python.pkg.dev/colab-wheels/public/simple/\n",
            "Collecting pymorphy2\n",
            "  Downloading pymorphy2-0.9.1-py3-none-any.whl (55 kB)\n",
            "\u001b[2K     \u001b[90m━━━━━━━━━━━━━━━━━━━━━━━━━━━━━━━━━━━━━━━━\u001b[0m \u001b[32m55.5/55.5 kB\u001b[0m \u001b[31m4.9 MB/s\u001b[0m eta \u001b[36m0:00:00\u001b[0m\n",
            "\u001b[?25hCollecting dawg-python>=0.7.1 (from pymorphy2)\n",
            "  Downloading DAWG_Python-0.7.2-py2.py3-none-any.whl (11 kB)\n",
            "Collecting pymorphy2-dicts-ru<3.0,>=2.4 (from pymorphy2)\n",
            "  Downloading pymorphy2_dicts_ru-2.4.417127.4579844-py2.py3-none-any.whl (8.2 MB)\n",
            "\u001b[2K     \u001b[90m━━━━━━━━━━━━━━━━━━━━━━━━━━━━━━━━━━━━━━━━\u001b[0m \u001b[32m8.2/8.2 MB\u001b[0m \u001b[31m71.9 MB/s\u001b[0m eta \u001b[36m0:00:00\u001b[0m\n",
            "\u001b[?25hCollecting docopt>=0.6 (from pymorphy2)\n",
            "  Downloading docopt-0.6.2.tar.gz (25 kB)\n",
            "  Preparing metadata (setup.py) ... \u001b[?25l\u001b[?25hdone\n",
            "Building wheels for collected packages: docopt\n",
            "  Building wheel for docopt (setup.py) ... \u001b[?25l\u001b[?25hdone\n",
            "  Created wheel for docopt: filename=docopt-0.6.2-py2.py3-none-any.whl size=13707 sha256=f4210b2cabbb262693b933027de48ff96a80fd56553ffd772ac55b86023f0333\n",
            "  Stored in directory: /root/.cache/pip/wheels/fc/ab/d4/5da2067ac95b36618c629a5f93f809425700506f72c9732fac\n",
            "Successfully built docopt\n",
            "Installing collected packages: pymorphy2-dicts-ru, docopt, dawg-python, pymorphy2\n",
            "Successfully installed dawg-python-0.7.2 docopt-0.6.2 pymorphy2-0.9.1 pymorphy2-dicts-ru-2.4.417127.4579844\n",
            "Looking in indexes: https://pypi.org/simple, https://us-python.pkg.dev/colab-wheels/public/simple/\n",
            "Requirement already satisfied: pymorphy2-dicts-ru in /usr/local/lib/python3.10/dist-packages (2.4.417127.4579844)\n"
          ]
        }
      ],
      "source": [
        "!pip install pymorphy2\n",
        "\n",
        "!pip install -U pymorphy2-dicts-ru"
      ]
    },
    {
      "cell_type": "code",
      "source": [
        "!pip install pyconll"
      ],
      "metadata": {
        "colab": {
          "base_uri": "https://localhost:8080/"
        },
        "id": "h32nbI7u9HxS",
        "outputId": "2843a739-87e9-4613-ca81-315a5ac90d2e"
      },
      "id": "h32nbI7u9HxS",
      "execution_count": 20,
      "outputs": [
        {
          "output_type": "stream",
          "name": "stdout",
          "text": [
            "Looking in indexes: https://pypi.org/simple, https://us-python.pkg.dev/colab-wheels/public/simple/\n",
            "Collecting pyconll\n",
            "  Downloading pyconll-3.1.0-py3-none-any.whl (26 kB)\n",
            "Installing collected packages: pyconll\n",
            "Successfully installed pyconll-3.1.0\n"
          ]
        }
      ]
    },
    {
      "cell_type": "code",
      "source": [
        "!pip install conllu"
      ],
      "metadata": {
        "colab": {
          "base_uri": "https://localhost:8080/"
        },
        "id": "WHvgIAsaDuCm",
        "outputId": "8024cd68-9af0-4af2-ee71-de8f38997a0d"
      },
      "id": "WHvgIAsaDuCm",
      "execution_count": 29,
      "outputs": [
        {
          "output_type": "stream",
          "name": "stdout",
          "text": [
            "Looking in indexes: https://pypi.org/simple, https://us-python.pkg.dev/colab-wheels/public/simple/\n",
            "Collecting conllu\n",
            "  Downloading conllu-4.5.2-py2.py3-none-any.whl (16 kB)\n",
            "Installing collected packages: conllu\n",
            "Successfully installed conllu-4.5.2\n"
          ]
        }
      ]
    },
    {
      "cell_type": "code",
      "source": [
        "import conllu\n",
        "\n",
        "with open(\"mynew.conllu\", \"w\") as f:\n",
        "    for i in parse:\n",
        "        f.write(i)\n",
        "        f.write('\\n\\n')"
      ],
      "metadata": {
        "colab": {
          "base_uri": "https://localhost:8080/",
          "height": 218
        },
        "id": "s32FsYARB160",
        "outputId": "c313e415-135e-438a-c590-cad2a57a0ea9"
      },
      "id": "s32FsYARB160",
      "execution_count": 48,
      "outputs": [
        {
          "output_type": "error",
          "ename": "TypeError",
          "evalue": "ignored",
          "traceback": [
            "\u001b[0;31m---------------------------------------------------------------------------\u001b[0m",
            "\u001b[0;31mTypeError\u001b[0m                                 Traceback (most recent call last)",
            "\u001b[0;32m<ipython-input-48-a7459a6f8f6e>\u001b[0m in \u001b[0;36m<cell line: 3>\u001b[0;34m()\u001b[0m\n\u001b[1;32m      3\u001b[0m \u001b[0;32mwith\u001b[0m \u001b[0mopen\u001b[0m\u001b[0;34m(\u001b[0m\u001b[0;34m\"mynew.conllu\"\u001b[0m\u001b[0;34m,\u001b[0m \u001b[0;34m\"w\"\u001b[0m\u001b[0;34m)\u001b[0m \u001b[0;32mas\u001b[0m \u001b[0mf\u001b[0m\u001b[0;34m:\u001b[0m\u001b[0;34m\u001b[0m\u001b[0;34m\u001b[0m\u001b[0m\n\u001b[1;32m      4\u001b[0m     \u001b[0;32mfor\u001b[0m \u001b[0mi\u001b[0m \u001b[0;32min\u001b[0m \u001b[0mparse\u001b[0m\u001b[0;34m:\u001b[0m\u001b[0;34m\u001b[0m\u001b[0;34m\u001b[0m\u001b[0m\n\u001b[0;32m----> 5\u001b[0;31m         \u001b[0mf\u001b[0m\u001b[0;34m.\u001b[0m\u001b[0mwrite\u001b[0m\u001b[0;34m(\u001b[0m\u001b[0mi\u001b[0m\u001b[0;34m)\u001b[0m\u001b[0;34m\u001b[0m\u001b[0;34m\u001b[0m\u001b[0m\n\u001b[0m\u001b[1;32m      6\u001b[0m         \u001b[0mf\u001b[0m\u001b[0;34m.\u001b[0m\u001b[0mwrite\u001b[0m\u001b[0;34m(\u001b[0m\u001b[0;34m'\\n\\n'\u001b[0m\u001b[0;34m)\u001b[0m\u001b[0;34m\u001b[0m\u001b[0;34m\u001b[0m\u001b[0m\n",
            "\u001b[0;31mTypeError\u001b[0m: write() argument must be str, not Parse"
          ]
        }
      ]
    },
    {
      "cell_type": "code",
      "source": [
        "with open(\"prestuplenie.conllu\", \"w\") as f:\n",
        "        f.write(parse)\n",
        "        f.write('\\n\\n')"
      ],
      "metadata": {
        "colab": {
          "base_uri": "https://localhost:8080/",
          "height": 201
        },
        "id": "zC5iwysz6hJ2",
        "outputId": "6b22d0f9-ea03-4314-e84e-be62a825bb0f"
      },
      "id": "zC5iwysz6hJ2",
      "execution_count": 24,
      "outputs": [
        {
          "output_type": "error",
          "ename": "TypeError",
          "evalue": "ignored",
          "traceback": [
            "\u001b[0;31m---------------------------------------------------------------------------\u001b[0m",
            "\u001b[0;31mTypeError\u001b[0m                                 Traceback (most recent call last)",
            "\u001b[0;32m<ipython-input-24-6b24edc31144>\u001b[0m in \u001b[0;36m<cell line: 1>\u001b[0;34m()\u001b[0m\n\u001b[1;32m      1\u001b[0m \u001b[0;32mwith\u001b[0m \u001b[0mopen\u001b[0m\u001b[0;34m(\u001b[0m\u001b[0;34m\"prestuplenie.conllu\"\u001b[0m\u001b[0;34m,\u001b[0m \u001b[0;34m\"w\"\u001b[0m\u001b[0;34m)\u001b[0m \u001b[0;32mas\u001b[0m \u001b[0mf\u001b[0m\u001b[0;34m:\u001b[0m\u001b[0;34m\u001b[0m\u001b[0;34m\u001b[0m\u001b[0m\n\u001b[0;32m----> 2\u001b[0;31m         \u001b[0mf\u001b[0m\u001b[0;34m.\u001b[0m\u001b[0mwrite\u001b[0m\u001b[0;34m(\u001b[0m\u001b[0mparse\u001b[0m\u001b[0;34m)\u001b[0m\u001b[0;34m\u001b[0m\u001b[0;34m\u001b[0m\u001b[0m\n\u001b[0m\u001b[1;32m      3\u001b[0m         \u001b[0mf\u001b[0m\u001b[0;34m.\u001b[0m\u001b[0mwrite\u001b[0m\u001b[0;34m(\u001b[0m\u001b[0;34m'\\n\\n'\u001b[0m\u001b[0;34m)\u001b[0m\u001b[0;34m\u001b[0m\u001b[0;34m\u001b[0m\u001b[0m\n",
            "\u001b[0;31mTypeError\u001b[0m: write() argument must be str, not list"
          ]
        }
      ]
    },
    {
      "cell_type": "markdown",
      "id": "b91d9717-183d-44c3-90d7-f06a996aae27",
      "metadata": {
        "id": "b91d9717-183d-44c3-90d7-f06a996aae27"
      },
      "source": [
        "#### Задача 6. \n",
        "\n",
        "Посчитайте статистику по частям речи, сопоставьте: можно напечатать две таблички с процентами по частям речи. "
      ]
    },
    {
      "cell_type": "code",
      "execution_count": null,
      "id": "8bb9129a-aa9e-435a-b6bf-e110223f5ee4",
      "metadata": {
        "id": "8bb9129a-aa9e-435a-b6bf-e110223f5ee4"
      },
      "outputs": [],
      "source": [
        "# your code here"
      ]
    },
    {
      "cell_type": "markdown",
      "id": "5232e3cb-2ad7-4bc8-a541-e7a3fb6b678c",
      "metadata": {
        "id": "5232e3cb-2ad7-4bc8-a541-e7a3fb6b678c"
      },
      "source": [
        "#### Задача 7. \n",
        "\n",
        "Посчитайте, какое соотношение токенов по частям речи имеет совпадающие со словоформой леммы (т.е., в скольких случаях токены с частью речи VERB, например, имели словарную форму: и сам токен, и лемма одинаковые). Что вы можете сказать о выбранных вами языках на основании этих данных? Ожидаются две таблички с процентами несовпадающих по лемме и токену слов для каждой части речи. "
      ]
    },
    {
      "cell_type": "code",
      "execution_count": null,
      "id": "d5ba5e91-de7c-4043-9e4b-9c77c7a78748",
      "metadata": {
        "id": "d5ba5e91-de7c-4043-9e4b-9c77c7a78748"
      },
      "outputs": [],
      "source": [
        "# your code here"
      ]
    },
    {
      "cell_type": "markdown",
      "id": "a092bf73-5c80-45a5-b9ea-7963a38df24e",
      "metadata": {
        "id": "a092bf73-5c80-45a5-b9ea-7963a38df24e"
      },
      "source": [
        "#### Задача 8. \n",
        "\n",
        "Посчитайте медианную длину предложения для ваших текстов (медиана - это если взять все длины всех ваших предложений, упорядочить их от маленького к большому и выбрать то число, которое оказалось посередине, а если чисел четное количество, то взять среднее арифметическое двух чисел посередине. Например, если у вас пять предложений длинами 1, 2, 6, 7, 8, то медиана - 6, а если шесть предложений длинами 1, 1, 7, 9, 10, 11, то медиана - (7 + 9) / 2 = 8). Возьмите любые два предложения (одно русское и второе на другом языке) и постройте для них деревья зависимостей. Изучите связи зависимостей (deprel) и вершины: согласны ли вы с разбором?"
      ]
    },
    {
      "cell_type": "code",
      "execution_count": null,
      "id": "a386e641-f1c1-4f9f-918c-5f3cc1efd080",
      "metadata": {
        "id": "a386e641-f1c1-4f9f-918c-5f3cc1efd080"
      },
      "outputs": [],
      "source": [
        "# your code here"
      ]
    },
    {
      "cell_type": "markdown",
      "id": "244e1e1e-ff95-4c1e-8c3e-e74d0783da8c",
      "metadata": {
        "id": "244e1e1e-ff95-4c1e-8c3e-e74d0783da8c"
      },
      "source": [
        "#### Задача 9. \n",
        "\n",
        "Посчитайте частотные списки токенов для каждой категории связей зависимостей (т.е., нужно выделить все токены в тексте, которые получали, например, ярлык amod, и посчитать их частоты). Выведите по первые три самых частотных токена для каждой категории (punct можно не выводить). "
      ]
    },
    {
      "cell_type": "code",
      "execution_count": null,
      "id": "5ddcd036-6ad7-48f9-8bbe-ec276f46435a",
      "metadata": {
        "id": "5ddcd036-6ad7-48f9-8bbe-ec276f46435a"
      },
      "outputs": [],
      "source": [
        "# your code here"
      ]
    },
    {
      "cell_type": "markdown",
      "id": "1be38b9d-cb10-4cff-8942-ba3022448ba7",
      "metadata": {
        "id": "1be38b9d-cb10-4cff-8942-ba3022448ba7"
      },
      "source": [
        "#### Задача 10. \n",
        "\n",
        "Некоторые предлоги в русском языке могут управлять разными падежами (например, \"я еду в Лондон\" vs \"я живу в Лондоне\"). Давайте проанализируем эти предлоги и их падежи. Необходимо:\n",
        "\n",
        "- составить список таких предлогов (РГ-80 вам в помощь)\n",
        "- взять достаточно большой текст (можно большое художественное произведение)\n",
        "- сделать морфоразбор этого текста (лучше не pymorphy)\n",
        "- Посчитать, как часто и какие падежи встречаются у слова, идущего после предлога.\n",
        "\n",
        "Примечания: во-первых, имейте в виду, что иногда после предлога могут идти самые неожиданные вещи: \"я что, должен ехать на, черт побери, северный полюс?\". Во-вторых, неплохо бы учитывать отсутствие пунктуации (конечно, в норме, как нам кажется, предлог обязательно требует зависимое, но! \"да иди ты на!\") Эти штуки можно отсеять, если просто учитывать только заранее определенные падежи, а не считать все, какие встретились (так и None можно огрести).\n",
        "\n",
        "Если будете использовать RNNMorph, возможно, понадобится регулярное выражение и немного терпения."
      ]
    },
    {
      "cell_type": "code",
      "execution_count": null,
      "id": "9df3055b-4668-4fe9-8e10-870f35519883",
      "metadata": {
        "id": "9df3055b-4668-4fe9-8e10-870f35519883"
      },
      "outputs": [],
      "source": [
        "# your code here"
      ]
    }
  ],
  "metadata": {
    "kernelspec": {
      "display_name": "Python 3 (ipykernel)",
      "language": "python",
      "name": "python3"
    },
    "language_info": {
      "codemirror_mode": {
        "name": "ipython",
        "version": 3
      },
      "file_extension": ".py",
      "mimetype": "text/x-python",
      "name": "python",
      "nbconvert_exporter": "python",
      "pygments_lexer": "ipython3",
      "version": "3.9.12"
    },
    "colab": {
      "provenance": [],
      "include_colab_link": true
    }
  },
  "nbformat": 4,
  "nbformat_minor": 5
}